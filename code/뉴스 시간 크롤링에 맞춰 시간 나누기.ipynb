{
 "cells": [
  {
   "cell_type": "code",
   "execution_count": 52,
   "metadata": {},
   "outputs": [],
   "source": [
    "import pandas as pd\n",
    "from datetime import datetime, timedelta"
   ]
  },
  {
   "cell_type": "code",
   "execution_count": 53,
   "metadata": {},
   "outputs": [
    {
     "name": "stdout",
     "output_type": "stream",
     "text": [
      "<class 'pandas.core.frame.DataFrame'>\n",
      "RangeIndex: 5342 entries, 0 to 5341\n",
      "Data columns (total 7 columns):\n",
      " #   Column             Non-Null Count  Dtype \n",
      "---  ------             --------------  ----- \n",
      " 0   일자                 5342 non-null   int64 \n",
      " 1   press_date         5342 non-null   object\n",
      " 2   press_time         5342 non-null   object\n",
      " 3   제목                 5342 non-null   object\n",
      " 4   특성추출(가중치순 상위 50개)  5342 non-null   object\n",
      " 5   URL                5342 non-null   object\n",
      " 6   뉴스본문               5342 non-null   object\n",
      "dtypes: int64(1), object(6)\n",
      "memory usage: 292.3+ KB\n"
     ]
    }
   ],
   "source": [
    "df = pd.read_excel(\"./ 다시 돌리세요.xlsx\")\n",
    "df = df.drop(['Unnamed: 0'],axis=1)\n",
    "df.info()"
   ]
  },
  {
   "cell_type": "code",
   "execution_count": 54,
   "metadata": {},
   "outputs": [],
   "source": [
    "import pandas as pd\n",
    "from datetime import datetime, timedelta\n",
    "\n",
    "\n",
    "def get_market_close_time(df):\n",
    "    for i in range(len(df)):\n",
    "        pressed = datetime.strptime(df.iloc[i][\"press_date\"]+\" \"+df.iloc[i][\"press_time\"],\"%Y-%m-%d %H:%M:%S\")\n",
    "        market_close = pressed.replace(hour=15, minute=30)\n",
    "\n",
    "        if pressed < market_close:\n",
    "            df.iloc[i,8] = pressed.strftime('%Y-%m-%d')\n",
    "        else:\n",
    "            next_day = pressed + timedelta(days=1)\n",
    "            df.iloc[i,8] = next_day.strftime('%Y-%m-%d')\n",
    "    return df\n",
    "\n",
    "## csv 파일 경로 변경\n",
    "\n",
    "## 시간순 정렬을 위해 컬럼 생성, predict_date 컬럼 생성 후 df에서 삭제해도 ok\n",
    "df[\"pressed_dt\"] = pd.to_datetime(df[\"press_date\"]+\" \"+df[\"press_time\"], format=\"%Y-%m-%d %H:%M:%S\")\n",
    "df = df.sort_values(\"pressed_dt\", ignore_index=True)\n",
    "\n",
    "df[\"predict_date\"]=\"0000-00-00\"\n",
    "\n",
    "df = get_market_close_time(df)\n"
   ]
  },
  {
   "cell_type": "code",
   "execution_count": 56,
   "metadata": {},
   "outputs": [],
   "source": [
    "df.to_excel('./oil 유가 최종데이터(불용어삭제전).xlsx')"
   ]
  },
  {
   "cell_type": "code",
   "execution_count": null,
   "metadata": {},
   "outputs": [],
   "source": []
  }
 ],
 "metadata": {
  "kernelspec": {
   "display_name": "Python 3",
   "language": "python",
   "name": "python3"
  },
  "language_info": {
   "codemirror_mode": {
    "name": "ipython",
    "version": 3
   },
   "file_extension": ".py",
   "mimetype": "text/x-python",
   "name": "python",
   "nbconvert_exporter": "python",
   "pygments_lexer": "ipython3",
   "version": "3.9.11"
  },
  "orig_nbformat": 4
 },
 "nbformat": 4,
 "nbformat_minor": 2
}
