{
 "cells": [
  {
   "cell_type": "code",
   "execution_count": 99,
   "metadata": {},
   "outputs": [],
   "source": [
    "import re\n",
    "import pandas as pd"
   ]
  },
  {
   "cell_type": "code",
   "execution_count": 100,
   "metadata": {},
   "outputs": [],
   "source": [
    "lg_oil_df = pd.read_excel('./샘플 텍스트 데이ㅓ.xlsx')\n",
    "\n",
    "lg_oil_df = lg_oil_df.drop(['Unnamed: 0'],axis=1)"
   ]
  },
  {
   "cell_type": "code",
   "execution_count": 101,
   "metadata": {},
   "outputs": [
    {
     "data": {
      "text/plain": [
       "0    [아시아경제 송화정 기자]외국인이 국내 증시에서 3주 연속 매수세를 나타냈다.\\n\\...\n",
       "Name: article_text, dtype: object"
      ]
     },
     "execution_count": 101,
     "metadata": {},
     "output_type": "execute_result"
    }
   ],
   "source": [
    "lg_oil_df['article_text']"
   ]
  },
  {
   "cell_type": "code",
   "execution_count": 102,
   "metadata": {},
   "outputs": [],
   "source": [
    "def preprocess_text(text):\n",
    "    # 괄호와 괄호 안에 있는 내용 삭제\n",
    "    text = re.sub(r'\\([^()]*\\)', '', text)  # () 안에 있는 내용 삭제\n",
    "    text = re.sub(r'\\[[^\\[\\]]*\\]', '', text)  # [] 안에 있는 내용 삭제\n",
    "    text = re.sub(r'\\{[^{}]*\\}', '', text)  # {} 안에 있는 내용 삭제\n",
    "\n",
    "    pattern_others = re.compile(r'\\.([^\\.]*(?:기자|특파원|교수|작가|대표|논설|고문|주필|부문장|팀장|장관|원장|연구원|이사장|위원|실장|차장|부장|에세이|화백|사설|소장|단장|과장|기획자|큐레이터|저작권|평론가|©|©|ⓒ|\\@|\\/|=|▶|무단|전재|재배포|금지|\\[|\\]|\\(\\))[^\\.]*)$')\n",
    "    text = pattern_others.sub('.', text)\n",
    "\n",
    "    # 특수문자 제거\n",
    "    text = re.sub(r'[^%.,+-\\w\\s]', ' ', text)  # 특수문자를 공백으로 대체\n",
    "\n",
    "    # 공백 제거\n",
    "    text = re.sub(r'\\s+', ' ', text)  # 연속된 공백을 하나의 공백으로 대체\n",
    "    text = text.strip()  # 문장 앞뒤의 공백 제거\n",
    "\n",
    "    # 연속된 줄바꿈을 하나의 줄바꿈으로 대체\n",
    "    text = re.sub(r'\\n+', '\\n', text)\n",
    "\n",
    "    return text\n"
   ]
  },
  {
   "cell_type": "code",
   "execution_count": 103,
   "metadata": {},
   "outputs": [],
   "source": [
    "def remove_stopwords(text, stopwords):\n",
    "    words = text.split()\n",
    "    words = [word for word in words if word.lower() not in stopwords]\n",
    "    return ' '.join(words)"
   ]
  },
  {
   "cell_type": "code",
   "execution_count": 104,
   "metadata": {},
   "outputs": [],
   "source": [
    "stopwords = ['원본보기', '아이콘', 'AD','자료','ADVERTISEMENT','Advertisement','viewer']\n"
   ]
  },
  {
   "cell_type": "code",
   "execution_count": 105,
   "metadata": {},
   "outputs": [],
   "source": [
    "# df['preprocessed_text'] = df['text'].apply(preprocess_text)\n",
    "lg_oil_df['article_text'] = lg_oil_df['article_text'].apply(preprocess_text)\n",
    "\n",
    "# 불용어 처리 적용\n",
    "lg_oil_df['article_text'] = lg_oil_df['article_text'].apply(remove_stopwords, stopwords=stopwords)\n"
   ]
  },
  {
   "cell_type": "code",
   "execution_count": 107,
   "metadata": {},
   "outputs": [],
   "source": [
    "lg_oil_df['article_text'].to_excel('./야호.xlsx')"
   ]
  },
  {
   "cell_type": "code",
   "execution_count": null,
   "metadata": {},
   "outputs": [],
   "source": []
  }
 ],
 "metadata": {
  "kernelspec": {
   "display_name": "Python 3",
   "language": "python",
   "name": "python3"
  },
  "language_info": {
   "codemirror_mode": {
    "name": "ipython",
    "version": 3
   },
   "file_extension": ".py",
   "mimetype": "text/x-python",
   "name": "python",
   "nbconvert_exporter": "python",
   "pygments_lexer": "ipython3",
   "version": "3.9.11"
  },
  "orig_nbformat": 4
 },
 "nbformat": 4,
 "nbformat_minor": 2
}
