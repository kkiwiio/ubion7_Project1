{
 "cells": [
  {
   "cell_type": "code",
   "execution_count": 1,
   "metadata": {},
   "outputs": [],
   "source": [
    "import pandas as pd"
   ]
  },
  {
   "cell_type": "code",
   "execution_count": 3,
   "metadata": {},
   "outputs": [],
   "source": [
    "df = pd.read_excel('../불용어처리 전 데이터/oil 유가 최종데이터(불용어처리전).xlsx')\n",
    "df = df.drop(['Unnamed: 0'],axis=1)"
   ]
  },
  {
   "cell_type": "code",
   "execution_count": 4,
   "metadata": {},
   "outputs": [
    {
     "name": "stdout",
     "output_type": "stream",
     "text": [
      "<class 'pandas.core.frame.DataFrame'>\n",
      "RangeIndex: 5342 entries, 0 to 5341\n",
      "Data columns (total 2 columns):\n",
      " #   Column        Non-Null Count  Dtype \n",
      "---  ------        --------------  ----- \n",
      " 0   뉴스본문          5342 non-null   object\n",
      " 1   predict_date  5342 non-null   object\n",
      "dtypes: object(2)\n",
      "memory usage: 83.6+ KB\n"
     ]
    }
   ],
   "source": [
    "df.info()"
   ]
  },
  {
   "cell_type": "code",
   "execution_count": 9,
   "metadata": {},
   "outputs": [],
   "source": [
    "df = df.rename(columns={'뉴스본문':'oil_news'})"
   ]
  },
  {
   "cell_type": "code",
   "execution_count": 10,
   "metadata": {},
   "outputs": [],
   "source": [
    "oil_total_df = df[[\"predict_date\", \"oil_news\"]].groupby(by=\"predict_date\").sum()"
   ]
  },
  {
   "cell_type": "code",
   "execution_count": 11,
   "metadata": {},
   "outputs": [
    {
     "data": {
      "text/html": [
       "<div>\n",
       "<style scoped>\n",
       "    .dataframe tbody tr th:only-of-type {\n",
       "        vertical-align: middle;\n",
       "    }\n",
       "\n",
       "    .dataframe tbody tr th {\n",
       "        vertical-align: top;\n",
       "    }\n",
       "\n",
       "    .dataframe thead th {\n",
       "        text-align: right;\n",
       "    }\n",
       "</style>\n",
       "<table border=\"1\" class=\"dataframe\">\n",
       "  <thead>\n",
       "    <tr style=\"text-align: right;\">\n",
       "      <th></th>\n",
       "      <th>oil_news</th>\n",
       "    </tr>\n",
       "    <tr>\n",
       "      <th>predict_date</th>\n",
       "      <th></th>\n",
       "    </tr>\n",
       "  </thead>\n",
       "  <tbody>\n",
       "    <tr>\n",
       "      <th>2022-01-01</th>\n",
       "      <td>2021년 물가가 10년 사이 가장 큰 폭으로 뛰어오르면서 서민 지갑을 옥죄고 있다...</td>\n",
       "    </tr>\n",
       "    <tr>\n",
       "      <th>2022-01-02</th>\n",
       "      <td>[충청투데이 심형식 기자] 코로나19(이하 코로나)가 2년가까이 지속되면서 대면서비...</td>\n",
       "    </tr>\n",
       "    <tr>\n",
       "      <th>2022-01-03</th>\n",
       "      <td>▲ 2021년 12월 충청지역 소비자물가동향\\n\\n충북과 충남의 물가 상승률이 4%...</td>\n",
       "    </tr>\n",
       "    <tr>\n",
       "      <th>2022-01-04</th>\n",
       "      <td>\\n\\n서울 시내 주유소 모습.\\n\\n\\n\\n\\n\\n[ 저작권자 ⓒ디지털타임스, 무...</td>\n",
       "    </tr>\n",
       "    <tr>\n",
       "      <th>2022-01-05</th>\n",
       "      <td>&lt; 저작권자 ⓒ 서울경제, 무단 전재 및 재배포 금지 &gt;\\n\\n미국 뉴욕증시의 주요...</td>\n",
       "    </tr>\n",
       "    <tr>\n",
       "      <th>...</th>\n",
       "      <td>...</td>\n",
       "    </tr>\n",
       "    <tr>\n",
       "      <th>2023-05-24</th>\n",
       "      <td>미국 뉴욕증시의 3대 지수는 23일(현지시간) 조 바이든 대통령과 케빈 매카시 하원...</td>\n",
       "    </tr>\n",
       "    <tr>\n",
       "      <th>2023-05-25</th>\n",
       "      <td>IT 경기 둔화에 수출 부진\\n\\n글로벌 은행 불안도 지속\\n\\n한국은행이 25일 ...</td>\n",
       "    </tr>\n",
       "    <tr>\n",
       "      <th>2023-05-27</th>\n",
       "      <td>주유소 휘발유, 경유 판매가격이 하락세를 보이고 있는 가운데 한 주유소를 찾은 운전...</td>\n",
       "    </tr>\n",
       "    <tr>\n",
       "      <th>2023-05-30</th>\n",
       "      <td>게티이미지뱅크\\n\\n\\n\\n경유와 휘발유 가격이 한 달 간 내림세를 지속하며 유가 ...</td>\n",
       "    </tr>\n",
       "    <tr>\n",
       "      <th>2023-06-28</th>\n",
       "      <td>양시원 기자\\n\\n▶ 디지털 뉴스 콘텐츠 이용규칙보기\\n\\n원자재 가격 급등과 오미...</td>\n",
       "    </tr>\n",
       "  </tbody>\n",
       "</table>\n",
       "<p>485 rows × 1 columns</p>\n",
       "</div>"
      ],
      "text/plain": [
       "                                                       oil_news\n",
       "predict_date                                                   \n",
       "2022-01-01    2021년 물가가 10년 사이 가장 큰 폭으로 뛰어오르면서 서민 지갑을 옥죄고 있다...\n",
       "2022-01-02    [충청투데이 심형식 기자] 코로나19(이하 코로나)가 2년가까이 지속되면서 대면서비...\n",
       "2022-01-03    ▲ 2021년 12월 충청지역 소비자물가동향\\n\\n충북과 충남의 물가 상승률이 4%...\n",
       "2022-01-04    \\n\\n서울 시내 주유소 모습.\\n\\n\\n\\n\\n\\n[ 저작권자 ⓒ디지털타임스, 무...\n",
       "2022-01-05    < 저작권자 ⓒ 서울경제, 무단 전재 및 재배포 금지 >\\n\\n미국 뉴욕증시의 주요...\n",
       "...                                                         ...\n",
       "2023-05-24    미국 뉴욕증시의 3대 지수는 23일(현지시간) 조 바이든 대통령과 케빈 매카시 하원...\n",
       "2023-05-25    IT 경기 둔화에 수출 부진\\n\\n글로벌 은행 불안도 지속\\n\\n한국은행이 25일 ...\n",
       "2023-05-27    주유소 휘발유, 경유 판매가격이 하락세를 보이고 있는 가운데 한 주유소를 찾은 운전...\n",
       "2023-05-30    게티이미지뱅크\\n\\n\\n\\n경유와 휘발유 가격이 한 달 간 내림세를 지속하며 유가 ...\n",
       "2023-06-28    양시원 기자\\n\\n▶ 디지털 뉴스 콘텐츠 이용규칙보기\\n\\n원자재 가격 급등과 오미...\n",
       "\n",
       "[485 rows x 1 columns]"
      ]
     },
     "execution_count": 11,
     "metadata": {},
     "output_type": "execute_result"
    }
   ],
   "source": [
    "oil_total_df"
   ]
  },
  {
   "cell_type": "code",
   "execution_count": 13,
   "metadata": {},
   "outputs": [],
   "source": [
    "oil_total_df[\"predict_date\"] = oil_total_df.index"
   ]
  },
  {
   "cell_type": "code",
   "execution_count": 12,
   "metadata": {},
   "outputs": [
    {
     "data": {
      "text/html": [
       "<div>\n",
       "<style scoped>\n",
       "    .dataframe tbody tr th:only-of-type {\n",
       "        vertical-align: middle;\n",
       "    }\n",
       "\n",
       "    .dataframe tbody tr th {\n",
       "        vertical-align: top;\n",
       "    }\n",
       "\n",
       "    .dataframe thead th {\n",
       "        text-align: right;\n",
       "    }\n",
       "</style>\n",
       "<table border=\"1\" class=\"dataframe\">\n",
       "  <thead>\n",
       "    <tr style=\"text-align: right;\">\n",
       "      <th></th>\n",
       "      <th>oil_news</th>\n",
       "    </tr>\n",
       "  </thead>\n",
       "  <tbody>\n",
       "    <tr>\n",
       "      <th>0</th>\n",
       "      <td>2021년 물가가 10년 사이 가장 큰 폭으로 뛰어오르면서 서민 지갑을 옥죄고 있다...</td>\n",
       "    </tr>\n",
       "    <tr>\n",
       "      <th>1</th>\n",
       "      <td>[충청투데이 심형식 기자] 코로나19(이하 코로나)가 2년가까이 지속되면서 대면서비...</td>\n",
       "    </tr>\n",
       "    <tr>\n",
       "      <th>2</th>\n",
       "      <td>▲ 2021년 12월 충청지역 소비자물가동향\\n\\n충북과 충남의 물가 상승률이 4%...</td>\n",
       "    </tr>\n",
       "    <tr>\n",
       "      <th>3</th>\n",
       "      <td>\\n\\n서울 시내 주유소 모습.\\n\\n\\n\\n\\n\\n[ 저작권자 ⓒ디지털타임스, 무...</td>\n",
       "    </tr>\n",
       "    <tr>\n",
       "      <th>4</th>\n",
       "      <td>&lt; 저작권자 ⓒ 서울경제, 무단 전재 및 재배포 금지 &gt;\\n\\n미국 뉴욕증시의 주요...</td>\n",
       "    </tr>\n",
       "    <tr>\n",
       "      <th>...</th>\n",
       "      <td>...</td>\n",
       "    </tr>\n",
       "    <tr>\n",
       "      <th>480</th>\n",
       "      <td>미국 뉴욕증시의 3대 지수는 23일(현지시간) 조 바이든 대통령과 케빈 매카시 하원...</td>\n",
       "    </tr>\n",
       "    <tr>\n",
       "      <th>481</th>\n",
       "      <td>IT 경기 둔화에 수출 부진\\n\\n글로벌 은행 불안도 지속\\n\\n한국은행이 25일 ...</td>\n",
       "    </tr>\n",
       "    <tr>\n",
       "      <th>482</th>\n",
       "      <td>주유소 휘발유, 경유 판매가격이 하락세를 보이고 있는 가운데 한 주유소를 찾은 운전...</td>\n",
       "    </tr>\n",
       "    <tr>\n",
       "      <th>483</th>\n",
       "      <td>게티이미지뱅크\\n\\n\\n\\n경유와 휘발유 가격이 한 달 간 내림세를 지속하며 유가 ...</td>\n",
       "    </tr>\n",
       "    <tr>\n",
       "      <th>484</th>\n",
       "      <td>양시원 기자\\n\\n▶ 디지털 뉴스 콘텐츠 이용규칙보기\\n\\n원자재 가격 급등과 오미...</td>\n",
       "    </tr>\n",
       "  </tbody>\n",
       "</table>\n",
       "<p>485 rows × 1 columns</p>\n",
       "</div>"
      ],
      "text/plain": [
       "                                              oil_news\n",
       "0    2021년 물가가 10년 사이 가장 큰 폭으로 뛰어오르면서 서민 지갑을 옥죄고 있다...\n",
       "1    [충청투데이 심형식 기자] 코로나19(이하 코로나)가 2년가까이 지속되면서 대면서비...\n",
       "2    ▲ 2021년 12월 충청지역 소비자물가동향\\n\\n충북과 충남의 물가 상승률이 4%...\n",
       "3    \\n\\n서울 시내 주유소 모습.\\n\\n\\n\\n\\n\\n[ 저작권자 ⓒ디지털타임스, 무...\n",
       "4    < 저작권자 ⓒ 서울경제, 무단 전재 및 재배포 금지 >\\n\\n미국 뉴욕증시의 주요...\n",
       "..                                                 ...\n",
       "480  미국 뉴욕증시의 3대 지수는 23일(현지시간) 조 바이든 대통령과 케빈 매카시 하원...\n",
       "481  IT 경기 둔화에 수출 부진\\n\\n글로벌 은행 불안도 지속\\n\\n한국은행이 25일 ...\n",
       "482  주유소 휘발유, 경유 판매가격이 하락세를 보이고 있는 가운데 한 주유소를 찾은 운전...\n",
       "483  게티이미지뱅크\\n\\n\\n\\n경유와 휘발유 가격이 한 달 간 내림세를 지속하며 유가 ...\n",
       "484  양시원 기자\\n\\n▶ 디지털 뉴스 콘텐츠 이용규칙보기\\n\\n원자재 가격 급등과 오미...\n",
       "\n",
       "[485 rows x 1 columns]"
      ]
     },
     "execution_count": 12,
     "metadata": {},
     "output_type": "execute_result"
    }
   ],
   "source": [
    "oil_total_df.reset_index(drop=True)"
   ]
  },
  {
   "cell_type": "code",
   "execution_count": 15,
   "metadata": {},
   "outputs": [],
   "source": [
    "oil_total_df = oil_total_df[['predict_date', 'oil_news']].reset_index(drop=True)"
   ]
  },
  {
   "cell_type": "code",
   "execution_count": 16,
   "metadata": {},
   "outputs": [
    {
     "data": {
      "text/html": [
       "<div>\n",
       "<style scoped>\n",
       "    .dataframe tbody tr th:only-of-type {\n",
       "        vertical-align: middle;\n",
       "    }\n",
       "\n",
       "    .dataframe tbody tr th {\n",
       "        vertical-align: top;\n",
       "    }\n",
       "\n",
       "    .dataframe thead th {\n",
       "        text-align: right;\n",
       "    }\n",
       "</style>\n",
       "<table border=\"1\" class=\"dataframe\">\n",
       "  <thead>\n",
       "    <tr style=\"text-align: right;\">\n",
       "      <th></th>\n",
       "      <th>predict_date</th>\n",
       "      <th>oil_news</th>\n",
       "    </tr>\n",
       "  </thead>\n",
       "  <tbody>\n",
       "    <tr>\n",
       "      <th>0</th>\n",
       "      <td>2022-01-01</td>\n",
       "      <td>2021년 물가가 10년 사이 가장 큰 폭으로 뛰어오르면서 서민 지갑을 옥죄고 있다...</td>\n",
       "    </tr>\n",
       "    <tr>\n",
       "      <th>1</th>\n",
       "      <td>2022-01-02</td>\n",
       "      <td>[충청투데이 심형식 기자] 코로나19(이하 코로나)가 2년가까이 지속되면서 대면서비...</td>\n",
       "    </tr>\n",
       "    <tr>\n",
       "      <th>2</th>\n",
       "      <td>2022-01-03</td>\n",
       "      <td>▲ 2021년 12월 충청지역 소비자물가동향\\n\\n충북과 충남의 물가 상승률이 4%...</td>\n",
       "    </tr>\n",
       "    <tr>\n",
       "      <th>3</th>\n",
       "      <td>2022-01-04</td>\n",
       "      <td>\\n\\n서울 시내 주유소 모습.\\n\\n\\n\\n\\n\\n[ 저작권자 ⓒ디지털타임스, 무...</td>\n",
       "    </tr>\n",
       "    <tr>\n",
       "      <th>4</th>\n",
       "      <td>2022-01-05</td>\n",
       "      <td>&lt; 저작권자 ⓒ 서울경제, 무단 전재 및 재배포 금지 &gt;\\n\\n미국 뉴욕증시의 주요...</td>\n",
       "    </tr>\n",
       "    <tr>\n",
       "      <th>...</th>\n",
       "      <td>...</td>\n",
       "      <td>...</td>\n",
       "    </tr>\n",
       "    <tr>\n",
       "      <th>480</th>\n",
       "      <td>2023-05-24</td>\n",
       "      <td>미국 뉴욕증시의 3대 지수는 23일(현지시간) 조 바이든 대통령과 케빈 매카시 하원...</td>\n",
       "    </tr>\n",
       "    <tr>\n",
       "      <th>481</th>\n",
       "      <td>2023-05-25</td>\n",
       "      <td>IT 경기 둔화에 수출 부진\\n\\n글로벌 은행 불안도 지속\\n\\n한국은행이 25일 ...</td>\n",
       "    </tr>\n",
       "    <tr>\n",
       "      <th>482</th>\n",
       "      <td>2023-05-27</td>\n",
       "      <td>주유소 휘발유, 경유 판매가격이 하락세를 보이고 있는 가운데 한 주유소를 찾은 운전...</td>\n",
       "    </tr>\n",
       "    <tr>\n",
       "      <th>483</th>\n",
       "      <td>2023-05-30</td>\n",
       "      <td>게티이미지뱅크\\n\\n\\n\\n경유와 휘발유 가격이 한 달 간 내림세를 지속하며 유가 ...</td>\n",
       "    </tr>\n",
       "    <tr>\n",
       "      <th>484</th>\n",
       "      <td>2023-06-28</td>\n",
       "      <td>양시원 기자\\n\\n▶ 디지털 뉴스 콘텐츠 이용규칙보기\\n\\n원자재 가격 급등과 오미...</td>\n",
       "    </tr>\n",
       "  </tbody>\n",
       "</table>\n",
       "<p>485 rows × 2 columns</p>\n",
       "</div>"
      ],
      "text/plain": [
       "    predict_date                                           oil_news\n",
       "0     2022-01-01  2021년 물가가 10년 사이 가장 큰 폭으로 뛰어오르면서 서민 지갑을 옥죄고 있다...\n",
       "1     2022-01-02  [충청투데이 심형식 기자] 코로나19(이하 코로나)가 2년가까이 지속되면서 대면서비...\n",
       "2     2022-01-03  ▲ 2021년 12월 충청지역 소비자물가동향\\n\\n충북과 충남의 물가 상승률이 4%...\n",
       "3     2022-01-04  \\n\\n서울 시내 주유소 모습.\\n\\n\\n\\n\\n\\n[ 저작권자 ⓒ디지털타임스, 무...\n",
       "4     2022-01-05  < 저작권자 ⓒ 서울경제, 무단 전재 및 재배포 금지 >\\n\\n미국 뉴욕증시의 주요...\n",
       "..           ...                                                ...\n",
       "480   2023-05-24  미국 뉴욕증시의 3대 지수는 23일(현지시간) 조 바이든 대통령과 케빈 매카시 하원...\n",
       "481   2023-05-25  IT 경기 둔화에 수출 부진\\n\\n글로벌 은행 불안도 지속\\n\\n한국은행이 25일 ...\n",
       "482   2023-05-27  주유소 휘발유, 경유 판매가격이 하락세를 보이고 있는 가운데 한 주유소를 찾은 운전...\n",
       "483   2023-05-30  게티이미지뱅크\\n\\n\\n\\n경유와 휘발유 가격이 한 달 간 내림세를 지속하며 유가 ...\n",
       "484   2023-06-28  양시원 기자\\n\\n▶ 디지털 뉴스 콘텐츠 이용규칙보기\\n\\n원자재 가격 급등과 오미...\n",
       "\n",
       "[485 rows x 2 columns]"
      ]
     },
     "execution_count": 16,
     "metadata": {},
     "output_type": "execute_result"
    }
   ],
   "source": [
    "oil_total_df"
   ]
  },
  {
   "cell_type": "code",
   "execution_count": 17,
   "metadata": {},
   "outputs": [],
   "source": [
    "lg_news_df = pd.read_csv('../불용어처리 전 데이터/lg화학최종데이터(불용어처리전).csv')"
   ]
  },
  {
   "cell_type": "code",
   "execution_count": 19,
   "metadata": {},
   "outputs": [],
   "source": [
    "lg_news_df = lg_news_df.drop(['Unnamed: 0'],axis=1)"
   ]
  },
  {
   "cell_type": "code",
   "execution_count": 21,
   "metadata": {},
   "outputs": [],
   "source": [
    "lg_oil_df = pd.merge(lg_news_df,oil_total_df,on='predict_date',how='left')"
   ]
  },
  {
   "cell_type": "code",
   "execution_count": 26,
   "metadata": {},
   "outputs": [],
   "source": [
    "lg_oil_df.to_excel('./LG+유가.xlsx')"
   ]
  },
  {
   "cell_type": "code",
   "execution_count": null,
   "metadata": {},
   "outputs": [],
   "source": []
  }
 ],
 "metadata": {
  "kernelspec": {
   "display_name": "Python 3",
   "language": "python",
   "name": "python3"
  },
  "language_info": {
   "codemirror_mode": {
    "name": "ipython",
    "version": 3
   },
   "file_extension": ".py",
   "mimetype": "text/x-python",
   "name": "python",
   "nbconvert_exporter": "python",
   "pygments_lexer": "ipython3",
   "version": "3.9.11"
  },
  "orig_nbformat": 4
 },
 "nbformat": 4,
 "nbformat_minor": 2
}
